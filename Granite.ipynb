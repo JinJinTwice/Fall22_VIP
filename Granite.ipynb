{
 "cells": [
  {
   "cell_type": "code",
   "execution_count": 1,
   "metadata": {},
   "outputs": [],
   "source": [
    "import numpy as np\n",
    "import pandas as pd\n",
    "import seaborn as sns\n",
    "from plotly.subplots import make_subplots\n",
    "import matplotlib.pyplot as plt\n",
    "import plotly.express as px\n",
    "\n",
    "import warnings\n",
    "warnings.filterwarnings('ignore')"
   ]
  },
  {
   "cell_type": "code",
   "execution_count": 8,
   "metadata": {},
   "outputs": [],
   "source": [
    "granite = pd.read_csv(\"/Users/lixinjin/Desktop/GeorgiaTech/fall2022_VIP/Gr1.csv\")\n",
    "granite = granite.iloc[2:102]\n",
    "# granite.head(5)\n",
    "granite_new = granite[[' Hardness(GPa)', ' Modulus', ' X', ' Y']]\n",
    "granite_new.rename(columns={' Hardness(GPa)': 'Hardness', ' Modulus': 'Modulus', ' X': 'X', ' Y': 'Y'}, inplace=True)\n",
    "granite_new.index = np.arange(1, len(granite_new) + 1)"
   ]
  },
  {
   "cell_type": "markdown",
   "metadata": {},
   "source": [
    "### Using 1.5IQR rule to remove outliers\n",
    "#### Lower Bound: (Q1 - 1.5 * IQR) \n",
    "#### Upper Bound: (Q3 + 1.5 * IQR)"
   ]
  },
  {
   "cell_type": "code",
   "execution_count": 9,
   "metadata": {},
   "outputs": [
    {
     "data": {
      "text/html": [
       "<div>\n",
       "<style scoped>\n",
       "    .dataframe tbody tr th:only-of-type {\n",
       "        vertical-align: middle;\n",
       "    }\n",
       "\n",
       "    .dataframe tbody tr th {\n",
       "        vertical-align: top;\n",
       "    }\n",
       "\n",
       "    .dataframe thead th {\n",
       "        text-align: right;\n",
       "    }\n",
       "</style>\n",
       "<table border=\"1\" class=\"dataframe\">\n",
       "  <thead>\n",
       "    <tr style=\"text-align: right;\">\n",
       "      <th></th>\n",
       "      <th>Hardness</th>\n",
       "      <th>Modulus</th>\n",
       "      <th>X</th>\n",
       "      <th>Y</th>\n",
       "    </tr>\n",
       "  </thead>\n",
       "  <tbody>\n",
       "    <tr>\n",
       "      <th>1</th>\n",
       "      <td>0.387642</td>\n",
       "      <td>6.648113</td>\n",
       "      <td>-3.770873228</td>\n",
       "      <td>0.002520166</td>\n",
       "    </tr>\n",
       "    <tr>\n",
       "      <th>2</th>\n",
       "      <td>1.224675</td>\n",
       "      <td>32.848149</td>\n",
       "      <td>-2.771180807</td>\n",
       "      <td>0.002698761</td>\n",
       "    </tr>\n",
       "    <tr>\n",
       "      <th>3</th>\n",
       "      <td>NaN</td>\n",
       "      <td>NaN</td>\n",
       "      <td>-1.771468543</td>\n",
       "      <td>0.002708683</td>\n",
       "    </tr>\n",
       "    <tr>\n",
       "      <th>4</th>\n",
       "      <td>1.841265</td>\n",
       "      <td>37.080645</td>\n",
       "      <td>-0.771160963</td>\n",
       "      <td>0.002708683</td>\n",
       "    </tr>\n",
       "    <tr>\n",
       "      <th>5</th>\n",
       "      <td>10.465644</td>\n",
       "      <td>178.110457</td>\n",
       "      <td>0.228789427</td>\n",
       "      <td>0.002698761</td>\n",
       "    </tr>\n",
       "    <tr>\n",
       "      <th>...</th>\n",
       "      <td>...</td>\n",
       "      <td>...</td>\n",
       "      <td>...</td>\n",
       "      <td>...</td>\n",
       "    </tr>\n",
       "    <tr>\n",
       "      <th>96</th>\n",
       "      <td>25.739224</td>\n",
       "      <td>211.007222</td>\n",
       "      <td>1.228045284</td>\n",
       "      <td>-8.997162332</td>\n",
       "    </tr>\n",
       "    <tr>\n",
       "      <th>97</th>\n",
       "      <td>42.664982</td>\n",
       "      <td>NaN</td>\n",
       "      <td>2.227499578</td>\n",
       "      <td>-8.997162332</td>\n",
       "    </tr>\n",
       "    <tr>\n",
       "      <th>98</th>\n",
       "      <td>NaN</td>\n",
       "      <td>362.929558</td>\n",
       "      <td>3.227747626</td>\n",
       "      <td>-8.997162332</td>\n",
       "    </tr>\n",
       "    <tr>\n",
       "      <th>99</th>\n",
       "      <td>26.693745</td>\n",
       "      <td>185.871818</td>\n",
       "      <td>4.22771786</td>\n",
       "      <td>-8.997162332</td>\n",
       "    </tr>\n",
       "    <tr>\n",
       "      <th>100</th>\n",
       "      <td>17.025402</td>\n",
       "      <td>109.235284</td>\n",
       "      <td>5.228600911</td>\n",
       "      <td>-8.997162332</td>\n",
       "    </tr>\n",
       "  </tbody>\n",
       "</table>\n",
       "<p>100 rows × 4 columns</p>\n",
       "</div>"
      ],
      "text/plain": [
       "      Hardness     Modulus             X             Y\n",
       "1     0.387642    6.648113  -3.770873228   0.002520166\n",
       "2     1.224675   32.848149  -2.771180807   0.002698761\n",
       "3          NaN         NaN  -1.771468543   0.002708683\n",
       "4     1.841265   37.080645  -0.771160963   0.002708683\n",
       "5    10.465644  178.110457   0.228789427   0.002698761\n",
       "..         ...         ...           ...           ...\n",
       "96   25.739224  211.007222   1.228045284  -8.997162332\n",
       "97   42.664982         NaN   2.227499578  -8.997162332\n",
       "98         NaN  362.929558   3.227747626  -8.997162332\n",
       "99   26.693745  185.871818    4.22771786  -8.997162332\n",
       "100  17.025402  109.235284   5.228600911  -8.997162332\n",
       "\n",
       "[100 rows x 4 columns]"
      ]
     },
     "execution_count": 9,
     "metadata": {},
     "output_type": "execute_result"
    }
   ],
   "source": [
    "# Define the function to remove outliers\n",
    "def remove_outlier_IQR(df):\n",
    "    Q1=df.quantile(0.25)\n",
    "    Q3=df.quantile(0.75)\n",
    "    IQR=Q3-Q1\n",
    "    df_final=df[~((df<(Q1-1.5*IQR)) | (df>(Q3+1.5*IQR)))]\n",
    "    return df_final\n",
    "\n",
    "granite_removed = remove_outlier_IQR(granite_new)\n",
    "granite_removed = pd.DataFrame(granite_removed)\n",
    "granite_removed"
   ]
  },
  {
   "cell_type": "code",
   "execution_count": 10,
   "metadata": {},
   "outputs": [
    {
     "data": {
      "text/html": [
       "<div>\n",
       "<style scoped>\n",
       "    .dataframe tbody tr th:only-of-type {\n",
       "        vertical-align: middle;\n",
       "    }\n",
       "\n",
       "    .dataframe tbody tr th {\n",
       "        vertical-align: top;\n",
       "    }\n",
       "\n",
       "    .dataframe thead th {\n",
       "        text-align: right;\n",
       "    }\n",
       "</style>\n",
       "<table border=\"1\" class=\"dataframe\">\n",
       "  <thead>\n",
       "    <tr style=\"text-align: right;\">\n",
       "      <th></th>\n",
       "      <th>Hardness</th>\n",
       "      <th>Modulus</th>\n",
       "      <th>X</th>\n",
       "      <th>Y</th>\n",
       "    </tr>\n",
       "  </thead>\n",
       "  <tbody>\n",
       "    <tr>\n",
       "      <th>1</th>\n",
       "      <td>0.387642</td>\n",
       "      <td>6.648113</td>\n",
       "      <td>-3.770873228</td>\n",
       "      <td>0.002520166</td>\n",
       "    </tr>\n",
       "    <tr>\n",
       "      <th>2</th>\n",
       "      <td>1.224675</td>\n",
       "      <td>32.848149</td>\n",
       "      <td>-2.771180807</td>\n",
       "      <td>0.002698761</td>\n",
       "    </tr>\n",
       "    <tr>\n",
       "      <th>3</th>\n",
       "      <td>1.532970</td>\n",
       "      <td>34.964397</td>\n",
       "      <td>-1.771468543</td>\n",
       "      <td>0.002708683</td>\n",
       "    </tr>\n",
       "    <tr>\n",
       "      <th>4</th>\n",
       "      <td>1.841265</td>\n",
       "      <td>37.080645</td>\n",
       "      <td>-0.771160963</td>\n",
       "      <td>0.002708683</td>\n",
       "    </tr>\n",
       "    <tr>\n",
       "      <th>5</th>\n",
       "      <td>10.465644</td>\n",
       "      <td>178.110457</td>\n",
       "      <td>0.228789427</td>\n",
       "      <td>0.002698761</td>\n",
       "    </tr>\n",
       "    <tr>\n",
       "      <th>...</th>\n",
       "      <td>...</td>\n",
       "      <td>...</td>\n",
       "      <td>...</td>\n",
       "      <td>...</td>\n",
       "    </tr>\n",
       "    <tr>\n",
       "      <th>96</th>\n",
       "      <td>25.739224</td>\n",
       "      <td>211.007222</td>\n",
       "      <td>1.228045284</td>\n",
       "      <td>-8.997162332</td>\n",
       "    </tr>\n",
       "    <tr>\n",
       "      <th>97</th>\n",
       "      <td>42.664982</td>\n",
       "      <td>286.968390</td>\n",
       "      <td>2.227499578</td>\n",
       "      <td>-8.997162332</td>\n",
       "    </tr>\n",
       "    <tr>\n",
       "      <th>98</th>\n",
       "      <td>34.679363</td>\n",
       "      <td>362.929558</td>\n",
       "      <td>3.227747626</td>\n",
       "      <td>-8.997162332</td>\n",
       "    </tr>\n",
       "    <tr>\n",
       "      <th>99</th>\n",
       "      <td>26.693745</td>\n",
       "      <td>185.871818</td>\n",
       "      <td>4.22771786</td>\n",
       "      <td>-8.997162332</td>\n",
       "    </tr>\n",
       "    <tr>\n",
       "      <th>100</th>\n",
       "      <td>17.025402</td>\n",
       "      <td>109.235284</td>\n",
       "      <td>5.228600911</td>\n",
       "      <td>-8.997162332</td>\n",
       "    </tr>\n",
       "  </tbody>\n",
       "</table>\n",
       "<p>100 rows × 4 columns</p>\n",
       "</div>"
      ],
      "text/plain": [
       "      Hardness     Modulus             X             Y\n",
       "1     0.387642    6.648113  -3.770873228   0.002520166\n",
       "2     1.224675   32.848149  -2.771180807   0.002698761\n",
       "3     1.532970   34.964397  -1.771468543   0.002708683\n",
       "4     1.841265   37.080645  -0.771160963   0.002708683\n",
       "5    10.465644  178.110457   0.228789427   0.002698761\n",
       "..         ...         ...           ...           ...\n",
       "96   25.739224  211.007222   1.228045284  -8.997162332\n",
       "97   42.664982  286.968390   2.227499578  -8.997162332\n",
       "98   34.679363  362.929558   3.227747626  -8.997162332\n",
       "99   26.693745  185.871818    4.22771786  -8.997162332\n",
       "100  17.025402  109.235284   5.228600911  -8.997162332\n",
       "\n",
       "[100 rows x 4 columns]"
      ]
     },
     "execution_count": 10,
     "metadata": {},
     "output_type": "execute_result"
    }
   ],
   "source": [
    "granite_removed = granite_removed.interpolate(axis=0) # default method: linear\n",
    "granite_removed # outliers problem"
   ]
  },
  {
   "cell_type": "code",
   "execution_count": 350,
   "metadata": {},
   "outputs": [
    {
     "name": "stderr",
     "output_type": "stream",
     "text": [
      "*c* argument looks like a single numeric RGB or RGBA sequence, which should be avoided as value-mapping will have precedence in case its length matches with *x* & *y*.  Please use the *color* keyword-argument or provide a 2-D array with a single row if you intend to specify the same RGB or RGBA value for all points.\n",
      "*c* argument looks like a single numeric RGB or RGBA sequence, which should be avoided as value-mapping will have precedence in case its length matches with *x* & *y*.  Please use the *color* keyword-argument or provide a 2-D array with a single row if you intend to specify the same RGB or RGBA value for all points.\n"
     ]
    },
    {
     "data": {
      "text/plain": [
       "Text(0.5, 1.0, 'with outliers')"
      ]
     },
     "execution_count": 350,
     "metadata": {},
     "output_type": "execute_result"
    },
    {
     "data": {
      "image/png": "[encoded data removed]",
      "text/plain": [
       "<Figure size 432x288 with 2 Axes>"
      ]
     },
     "metadata": {
      "needs_background": "light"
     },
     "output_type": "display_data"
    }
   ],
   "source": [
    "import matplotlib.cm as cm \n",
    "colors = cm.rainbow(np.linspace(0, 1, granite_remoevd['Hardness'].shape[0]))\n",
    "plt.figure(figsize=(6,4))\n",
    "plt.subplot(1, 2, 1)\n",
    "plt.scatter(x = granite_remoevd['Modulus'], y = granite_remoevd['Hardness'], s = 15, c = colors[0])\n",
    "plt.xlabel(\"Modulus\")\n",
    "plt.ylabel(\"Hardness\")\n",
    "plt.title(\"without outliers\")\n",
    "\n",
    "plt.subplot(1, 2, 2)\n",
    "plt.scatter(x = granite_new['Modulus'], y = granite_new['Hardness'], s = 15, c = colors[0])\n",
    "plt.xlabel(\"Modulus\")\n",
    "plt.ylabel(\"Hardness\")\n",
    "plt.title(\"with outliers\")"
   ]
  },
  {
   "cell_type": "code",
   "execution_count": 351,
   "metadata": {},
   "outputs": [],
   "source": [
    "# Normolization\n",
    "hardness_diff = granite_remoevd[\"Hardness\"].max() - granite_remoevd[\"Hardness\"].min()\n",
    "granite_removed[\"Hardness\"] = (granite_removed[\"Hardness\"].sub(granite_removed[\"Hardness\"].min(), fill_value=0)) / hardness_diff\n",
    "\n",
    "modulus_diff = granite_remoevd[\"Modulus\"].max() - granite_remoevd[\"Modulus\"].min()\n",
    "granite_removed[\"Modulus\"] = (granite_removed[\"Modulus\"].sub(granite_removed[\"Modulus\"].min(), fill_value=0)) / modulus_diff"
   ]
  },
  {
   "cell_type": "code",
   "execution_count": 352,
   "metadata": {},
   "outputs": [
    {
     "data": {
      "text/html": [
       "<div>\n",
       "<style scoped>\n",
       "    .dataframe tbody tr th:only-of-type {\n",
       "        vertical-align: middle;\n",
       "    }\n",
       "\n",
       "    .dataframe tbody tr th {\n",
       "        vertical-align: top;\n",
       "    }\n",
       "\n",
       "    .dataframe thead th {\n",
       "        text-align: right;\n",
       "    }\n",
       "</style>\n",
       "<table border=\"1\" class=\"dataframe\">\n",
       "  <thead>\n",
       "    <tr style=\"text-align: right;\">\n",
       "      <th></th>\n",
       "      <th>Hardness</th>\n",
       "      <th>Modulus</th>\n",
       "      <th>X</th>\n",
       "      <th>Y</th>\n",
       "      <th>label</th>\n",
       "    </tr>\n",
       "  </thead>\n",
       "  <tbody>\n",
       "    <tr>\n",
       "      <th>1</th>\n",
       "      <td>0.000517</td>\n",
       "      <td>0.000000</td>\n",
       "      <td>-3.770873228</td>\n",
       "      <td>0.002520166</td>\n",
       "      <td>0</td>\n",
       "    </tr>\n",
       "    <tr>\n",
       "      <th>2</th>\n",
       "      <td>0.017389</td>\n",
       "      <td>0.073537</td>\n",
       "      <td>-2.771180807</td>\n",
       "      <td>0.002698761</td>\n",
       "      <td>0</td>\n",
       "    </tr>\n",
       "    <tr>\n",
       "      <th>3</th>\n",
       "      <td>0.023602</td>\n",
       "      <td>0.079477</td>\n",
       "      <td>-1.771468543</td>\n",
       "      <td>0.002708683</td>\n",
       "      <td>0</td>\n",
       "    </tr>\n",
       "    <tr>\n",
       "      <th>4</th>\n",
       "      <td>0.029816</td>\n",
       "      <td>0.085417</td>\n",
       "      <td>-0.771160963</td>\n",
       "      <td>0.002708683</td>\n",
       "      <td>0</td>\n",
       "    </tr>\n",
       "    <tr>\n",
       "      <th>5</th>\n",
       "      <td>0.203648</td>\n",
       "      <td>0.481255</td>\n",
       "      <td>0.228789427</td>\n",
       "      <td>0.002698761</td>\n",
       "      <td>2</td>\n",
       "    </tr>\n",
       "    <tr>\n",
       "      <th>6</th>\n",
       "      <td>0.208729</td>\n",
       "      <td>0.410349</td>\n",
       "      <td>1.228422316</td>\n",
       "      <td>0.002708683</td>\n",
       "      <td>2</td>\n",
       "    </tr>\n",
       "    <tr>\n",
       "      <th>7</th>\n",
       "      <td>0.854702</td>\n",
       "      <td>0.836553</td>\n",
       "      <td>2.228809271</td>\n",
       "      <td>0.002708683</td>\n",
       "      <td>1</td>\n",
       "    </tr>\n",
       "    <tr>\n",
       "      <th>8</th>\n",
       "      <td>0.582784</td>\n",
       "      <td>0.553095</td>\n",
       "      <td>3.228710052</td>\n",
       "      <td>0.002708683</td>\n",
       "      <td>2</td>\n",
       "    </tr>\n",
       "    <tr>\n",
       "      <th>9</th>\n",
       "      <td>0.276862</td>\n",
       "      <td>0.316251</td>\n",
       "      <td>4.228501692</td>\n",
       "      <td>0.002708683</td>\n",
       "      <td>3</td>\n",
       "    </tr>\n",
       "    <tr>\n",
       "      <th>10</th>\n",
       "      <td>0.117933</td>\n",
       "      <td>0.282911</td>\n",
       "      <td>5.228739818</td>\n",
       "      <td>0.002708683</td>\n",
       "      <td>3</td>\n",
       "    </tr>\n",
       "  </tbody>\n",
       "</table>\n",
       "</div>"
      ],
      "text/plain": [
       "    Hardness   Modulus             X            Y  label\n",
       "1   0.000517  0.000000  -3.770873228  0.002520166      0\n",
       "2   0.017389  0.073537  -2.771180807  0.002698761      0\n",
       "3   0.023602  0.079477  -1.771468543  0.002708683      0\n",
       "4   0.029816  0.085417  -0.771160963  0.002708683      0\n",
       "5   0.203648  0.481255   0.228789427  0.002698761      2\n",
       "6   0.208729  0.410349   1.228422316  0.002708683      2\n",
       "7   0.854702  0.836553   2.228809271  0.002708683      1\n",
       "8   0.582784  0.553095   3.228710052  0.002708683      2\n",
       "9   0.276862  0.316251   4.228501692  0.002708683      3\n",
       "10  0.117933  0.282911   5.228739818  0.002708683      3"
      ]
     },
     "execution_count": 352,
     "metadata": {},
     "output_type": "execute_result"
    }
   ],
   "source": [
    "granite_removed.head(10) # dataset after normalization"
   ]
  },
  {
   "cell_type": "code",
   "execution_count": 353,
   "metadata": {},
   "outputs": [],
   "source": [
    "# GMM\n",
    "from sklearn.mixture import GaussianMixture \n",
    "from sklearn.model_selection import train_test_split\n",
    "from sklearn import metrics"
   ]
  },
  {
   "cell_type": "code",
   "execution_count": 354,
   "metadata": {},
   "outputs": [],
   "source": [
    "granite_subset = granite_remoevd[['Hardness', 'Modulus']]"
   ]
  },
  {
   "cell_type": "code",
   "execution_count": 355,
   "metadata": {},
   "outputs": [
    {
     "data": {
      "image/png": "[encoded data removed]",
      "text/plain": [
       "<Figure size 432x432 with 1 Axes>"
      ]
     },
     "metadata": {
      "needs_background": "light"
     },
     "output_type": "display_data"
    }
   ],
   "source": [
    "gmm_granite = gmm = GaussianMixture(n_components = 3) \n",
    "gmm.fit(granite_subset)\n",
    "\n",
    "plt.scatter(granite_subset[\"Hardness\"], granite_subset[\"Modulus\"],  \n",
    "           c = GaussianMixture(n_components = 3).fit_predict(granite_subset), cmap =plt.cm.winter, alpha = 0.6) \n",
    "plt.show() "
   ]
  },
  {
   "cell_type": "code",
   "execution_count": 356,
   "metadata": {},
   "outputs": [
    {
     "data": {
      "text/plain": [
       "Text(0.5, 1.0, 'AIC of # Clusters')"
      ]
     },
     "execution_count": 356,
     "metadata": {},
     "output_type": "execute_result"
    },
    {
     "data": {
      "image/png": "[encoded data removed]",
      "text/plain": [
       "<Figure size 432x432 with 1 Axes>"
      ]
     },
     "metadata": {
      "needs_background": "light"
     },
     "output_type": "display_data"
    }
   ],
   "source": [
    "AIC=np.array([]);\n",
    "for K in range(1,10):\n",
    "    gmm = GaussianMixture(n_components=K)\n",
    "    gmm.fit_predict(granite_subset)\n",
    "    aic=gmm.aic(granite_subset)\n",
    "    AIC=np.append(AIC,aic)\n",
    "\n",
    "plt.plot(AIC); \n",
    "plt.xlabel('Number of classes'); \n",
    "plt.ylabel('AIC')\n",
    "plt.title('AIC of # Clusters')"
   ]
  },
  {
   "cell_type": "code",
   "execution_count": 357,
   "metadata": {},
   "outputs": [
    {
     "data": {
      "image/png": "[encoded data removed]",
      "text/plain": [
       "<Figure size 432x432 with 1 Axes>"
      ]
     },
     "metadata": {
      "needs_background": "light"
     },
     "output_type": "display_data"
    }
   ],
   "source": [
    "for i in range(2, 6):\n",
    "    plt.scatter(granite_subset[\"Hardness\"], granite_subset[\"Modulus\"],  \n",
    "           c = GaussianMixture(n_components = i).fit_predict(granite_subset), cmap =plt.cm.winter, alpha = 0.6) \n",
    "    plt.title(\"# of Clutser = \" + str(i))\n",
    "    #plt.show()   # mean and variance of "
   ]
  },
  {
   "cell_type": "code",
   "execution_count": 358,
   "metadata": {},
   "outputs": [],
   "source": [
    "# add a new column based on cluster = 4\n",
    "# df['NEW_COLUMN'] = pd.Series(predict, index=df.index)\n",
    "gmm_granite = gmm = GaussianMixture(n_components = 4) \n",
    "gmm.fit(granite_subset)\n",
    "predict = gmm.predict(granite_subset)\n",
    "granite_remoevd['label'] = pd.Series(predict, index=granite_remoevd.index)\n",
    "#granite_remoevd"
   ]
  },
  {
   "cell_type": "code",
   "execution_count": 359,
   "metadata": {},
   "outputs": [
    {
     "data": {
      "text/html": [
       "<div>\n",
       "<style scoped>\n",
       "    .dataframe tbody tr th:only-of-type {\n",
       "        vertical-align: middle;\n",
       "    }\n",
       "\n",
       "    .dataframe tbody tr th {\n",
       "        vertical-align: top;\n",
       "    }\n",
       "\n",
       "    .dataframe thead th {\n",
       "        text-align: right;\n",
       "    }\n",
       "</style>\n",
       "<table border=\"1\" class=\"dataframe\">\n",
       "  <thead>\n",
       "    <tr style=\"text-align: right;\">\n",
       "      <th></th>\n",
       "      <th>Hardness</th>\n",
       "      <th>Modulus</th>\n",
       "      <th>X</th>\n",
       "      <th>Y</th>\n",
       "    </tr>\n",
       "  </thead>\n",
       "  <tbody>\n",
       "    <tr>\n",
       "      <th>1</th>\n",
       "      <td>0.000517</td>\n",
       "      <td>0.000000</td>\n",
       "      <td>0.000052</td>\n",
       "      <td>0.999979</td>\n",
       "    </tr>\n",
       "    <tr>\n",
       "      <th>2</th>\n",
       "      <td>0.017389</td>\n",
       "      <td>0.073537</td>\n",
       "      <td>0.111125</td>\n",
       "      <td>0.999999</td>\n",
       "    </tr>\n",
       "    <tr>\n",
       "      <th>3</th>\n",
       "      <td>0.023602</td>\n",
       "      <td>0.079477</td>\n",
       "      <td>0.222200</td>\n",
       "      <td>1.000000</td>\n",
       "    </tr>\n",
       "    <tr>\n",
       "      <th>4</th>\n",
       "      <td>0.029816</td>\n",
       "      <td>0.085417</td>\n",
       "      <td>0.333341</td>\n",
       "      <td>1.000000</td>\n",
       "    </tr>\n",
       "    <tr>\n",
       "      <th>5</th>\n",
       "      <td>0.203648</td>\n",
       "      <td>0.481255</td>\n",
       "      <td>0.444443</td>\n",
       "      <td>0.999999</td>\n",
       "    </tr>\n",
       "  </tbody>\n",
       "</table>\n",
       "</div>"
      ],
      "text/plain": [
       "   Hardness   Modulus         X         Y\n",
       "1  0.000517  0.000000  0.000052  0.999979\n",
       "2  0.017389  0.073537  0.111125  0.999999\n",
       "3  0.023602  0.079477  0.222200  1.000000\n",
       "4  0.029816  0.085417  0.333341  1.000000\n",
       "5  0.203648  0.481255  0.444443  0.999999"
      ]
     },
     "execution_count": 359,
     "metadata": {},
     "output_type": "execute_result"
    }
   ],
   "source": [
    "dataset = granite_remoevd.iloc[:,0:4]\n",
    "dataset[\"X\"] = pd.to_numeric(dataset[\"X\"])\n",
    "dataset[\"Y\"] = pd.to_numeric(dataset[\"Y\"])\n",
    "# print(reshape_set.dtypes)\n",
    "dataset = (dataset - dataset.min())/(dataset.max() - dataset.min())\n",
    "dataset.head()"
   ]
  },
  {
   "cell_type": "code",
   "execution_count": 360,
   "metadata": {},
   "outputs": [],
   "source": [
    "norm_hardness = granite_remoevd['Hardness']\n",
    "norm_modulus = granite_remoevd['Modulus']\n",
    "norm_x = reshape_set[\"X\"]\n",
    "norm_y = reshape_set[\"Y\"]\n",
    "gmm_label = granite_remoevd['label']"
   ]
  },
  {
   "cell_type": "code",
   "execution_count": 361,
   "metadata": {},
   "outputs": [
    {
     "name": "stderr",
     "output_type": "stream",
     "text": [
      "No handles with labels found to put in legend.\n"
     ]
    },
    {
     "data": {
      "text/plain": [
       "Text(0, 0.5, 'y coordinate value')"
      ]
     },
     "execution_count": 361,
     "metadata": {},
     "output_type": "execute_result"
    },
    {
     "data": {
      "image/png": "[encoded data removed]",
      "text/plain": [
       "<Figure size 432x432 with 1 Axes>"
      ]
     },
     "metadata": {
      "needs_background": "light"
     },
     "output_type": "display_data"
    }
   ],
   "source": [
    "plt.rcParams[\"figure.figsize\"] = (6,6)\n",
    "plt.scatter(reshape_set[\"X\"], reshape_set[\"Y\"], c = granite_remoevd[\"label\"])\n",
    "plt.legend()\n",
    "plt.xlabel(\"x coordinate value\")\n",
    "plt.ylabel(\"y coordinate value\")"
   ]
  },
  {
   "cell_type": "markdown",
   "metadata": {},
   "source": [
    "## Add more data points"
   ]
  },
  {
   "cell_type": "code",
   "execution_count": 362,
   "metadata": {},
   "outputs": [
    {
     "data": {
      "text/html": [
       "<div>\n",
       "<style scoped>\n",
       "    .dataframe tbody tr th:only-of-type {\n",
       "        vertical-align: middle;\n",
       "    }\n",
       "\n",
       "    .dataframe tbody tr th {\n",
       "        vertical-align: top;\n",
       "    }\n",
       "\n",
       "    .dataframe thead th {\n",
       "        text-align: right;\n",
       "    }\n",
       "</style>\n",
       "<table border=\"1\" class=\"dataframe\">\n",
       "  <thead>\n",
       "    <tr style=\"text-align: right;\">\n",
       "      <th></th>\n",
       "      <th>Hardness</th>\n",
       "      <th>Modulus</th>\n",
       "      <th>X</th>\n",
       "      <th>Y</th>\n",
       "    </tr>\n",
       "  </thead>\n",
       "  <tbody>\n",
       "    <tr>\n",
       "      <th>1</th>\n",
       "      <td>0.000517</td>\n",
       "      <td>0.000000</td>\n",
       "      <td>0.000</td>\n",
       "      <td>1.000</td>\n",
       "    </tr>\n",
       "    <tr>\n",
       "      <th>2</th>\n",
       "      <td>0.017389</td>\n",
       "      <td>0.073537</td>\n",
       "      <td>0.111</td>\n",
       "      <td>1.000</td>\n",
       "    </tr>\n",
       "    <tr>\n",
       "      <th>3</th>\n",
       "      <td>0.023602</td>\n",
       "      <td>0.079477</td>\n",
       "      <td>0.222</td>\n",
       "      <td>1.000</td>\n",
       "    </tr>\n",
       "    <tr>\n",
       "      <th>4</th>\n",
       "      <td>0.029816</td>\n",
       "      <td>0.085417</td>\n",
       "      <td>0.333</td>\n",
       "      <td>1.000</td>\n",
       "    </tr>\n",
       "    <tr>\n",
       "      <th>5</th>\n",
       "      <td>0.203648</td>\n",
       "      <td>0.481255</td>\n",
       "      <td>0.444</td>\n",
       "      <td>1.000</td>\n",
       "    </tr>\n",
       "    <tr>\n",
       "      <th>6</th>\n",
       "      <td>0.208729</td>\n",
       "      <td>0.410349</td>\n",
       "      <td>0.556</td>\n",
       "      <td>1.000</td>\n",
       "    </tr>\n",
       "    <tr>\n",
       "      <th>7</th>\n",
       "      <td>0.854702</td>\n",
       "      <td>0.836553</td>\n",
       "      <td>0.667</td>\n",
       "      <td>1.000</td>\n",
       "    </tr>\n",
       "    <tr>\n",
       "      <th>8</th>\n",
       "      <td>0.582784</td>\n",
       "      <td>0.553095</td>\n",
       "      <td>0.778</td>\n",
       "      <td>1.000</td>\n",
       "    </tr>\n",
       "    <tr>\n",
       "      <th>9</th>\n",
       "      <td>0.276862</td>\n",
       "      <td>0.316251</td>\n",
       "      <td>0.889</td>\n",
       "      <td>1.000</td>\n",
       "    </tr>\n",
       "    <tr>\n",
       "      <th>10</th>\n",
       "      <td>0.117933</td>\n",
       "      <td>0.282911</td>\n",
       "      <td>1.000</td>\n",
       "      <td>1.000</td>\n",
       "    </tr>\n",
       "    <tr>\n",
       "      <th>11</th>\n",
       "      <td>0.338727</td>\n",
       "      <td>0.472079</td>\n",
       "      <td>0.000</td>\n",
       "      <td>0.889</td>\n",
       "    </tr>\n",
       "    <tr>\n",
       "      <th>12</th>\n",
       "      <td>0.508162</td>\n",
       "      <td>0.609216</td>\n",
       "      <td>0.111</td>\n",
       "      <td>0.889</td>\n",
       "    </tr>\n",
       "    <tr>\n",
       "      <th>13</th>\n",
       "      <td>0.011395</td>\n",
       "      <td>0.063594</td>\n",
       "      <td>0.222</td>\n",
       "      <td>0.889</td>\n",
       "    </tr>\n",
       "    <tr>\n",
       "      <th>14</th>\n",
       "      <td>0.193719</td>\n",
       "      <td>0.330358</td>\n",
       "      <td>0.333</td>\n",
       "      <td>0.889</td>\n",
       "    </tr>\n",
       "    <tr>\n",
       "      <th>15</th>\n",
       "      <td>0.428375</td>\n",
       "      <td>0.430759</td>\n",
       "      <td>0.444</td>\n",
       "      <td>0.889</td>\n",
       "    </tr>\n",
       "    <tr>\n",
       "      <th>16</th>\n",
       "      <td>0.106250</td>\n",
       "      <td>0.172906</td>\n",
       "      <td>0.556</td>\n",
       "      <td>0.889</td>\n",
       "    </tr>\n",
       "    <tr>\n",
       "      <th>17</th>\n",
       "      <td>0.588298</td>\n",
       "      <td>0.753931</td>\n",
       "      <td>0.667</td>\n",
       "      <td>0.889</td>\n",
       "    </tr>\n",
       "    <tr>\n",
       "      <th>18</th>\n",
       "      <td>0.328293</td>\n",
       "      <td>0.294063</td>\n",
       "      <td>0.778</td>\n",
       "      <td>0.889</td>\n",
       "    </tr>\n",
       "    <tr>\n",
       "      <th>19</th>\n",
       "      <td>0.125562</td>\n",
       "      <td>0.555775</td>\n",
       "      <td>0.889</td>\n",
       "      <td>0.889</td>\n",
       "    </tr>\n",
       "    <tr>\n",
       "      <th>20</th>\n",
       "      <td>0.021476</td>\n",
       "      <td>0.095132</td>\n",
       "      <td>1.000</td>\n",
       "      <td>0.889</td>\n",
       "    </tr>\n",
       "  </tbody>\n",
       "</table>\n",
       "</div>"
      ],
      "text/plain": [
       "    Hardness   Modulus      X      Y\n",
       "1   0.000517  0.000000  0.000  1.000\n",
       "2   0.017389  0.073537  0.111  1.000\n",
       "3   0.023602  0.079477  0.222  1.000\n",
       "4   0.029816  0.085417  0.333  1.000\n",
       "5   0.203648  0.481255  0.444  1.000\n",
       "6   0.208729  0.410349  0.556  1.000\n",
       "7   0.854702  0.836553  0.667  1.000\n",
       "8   0.582784  0.553095  0.778  1.000\n",
       "9   0.276862  0.316251  0.889  1.000\n",
       "10  0.117933  0.282911  1.000  1.000\n",
       "11  0.338727  0.472079  0.000  0.889\n",
       "12  0.508162  0.609216  0.111  0.889\n",
       "13  0.011395  0.063594  0.222  0.889\n",
       "14  0.193719  0.330358  0.333  0.889\n",
       "15  0.428375  0.430759  0.444  0.889\n",
       "16  0.106250  0.172906  0.556  0.889\n",
       "17  0.588298  0.753931  0.667  0.889\n",
       "18  0.328293  0.294063  0.778  0.889\n",
       "19  0.125562  0.555775  0.889  0.889\n",
       "20  0.021476  0.095132  1.000  0.889"
      ]
     },
     "execution_count": 362,
     "metadata": {},
     "output_type": "execute_result"
    }
   ],
   "source": [
    "import scipy as sp\n",
    "import scipy.interpolate\n",
    "from scipy.interpolate import griddata\n",
    "roundset = dataset\n",
    "roundset['X'] = round(roundset['X'], 3)\n",
    "roundset['Y'] = round(roundset['Y'], 3)\n",
    "roundset.head(20)"
   ]
  },
  {
   "cell_type": "code",
   "execution_count": 363,
   "metadata": {},
   "outputs": [
    {
     "name": "stdout",
     "output_type": "stream",
     "text": [
      "[0.     0.0111 0.0222 0.0333 0.0444 0.0556 0.0667 0.0778 0.0889 0.1   ]\n",
      "[0.1    0.0889 0.0778 0.0667 0.0556 0.0444 0.0333 0.0222 0.0111 0.    ]\n"
     ]
    }
   ],
   "source": [
    "x = roundset['X'][0:10]\n",
    "y = roundset['Y']\n",
    "temp_y = []\n",
    "for i in range(10):\n",
    "    temp_y.append(y[10*(i+1)-1])\n",
    "y = temp_y\n",
    "\n",
    "factor = 0.1\n",
    "\n",
    "x = factor*np.array(x)\n",
    "y = factor*np.array(y)\n",
    "\n",
    "print(x)\n",
    "print(y)"
   ]
  },
  {
   "cell_type": "code",
   "execution_count": 364,
   "metadata": {},
   "outputs": [
    {
     "name": "stdout",
     "output_type": "stream",
     "text": [
      "[0.         0.00526316 0.01052632 0.01578947 0.02105263 0.02631579\n",
      " 0.03157895 0.03684211 0.04210526 0.04736842 0.05263158 0.05789474\n",
      " 0.06315789 0.06842105 0.07368421 0.07894737 0.08421053 0.08947368\n",
      " 0.09473684 0.1       ]\n",
      "[0.1        0.09473684 0.08947368 0.08421053 0.07894737 0.07368421\n",
      " 0.06842105 0.06315789 0.05789474 0.05263158 0.04736842 0.04210526\n",
      " 0.03684211 0.03157895 0.02631579 0.02105263 0.01578947 0.01052632\n",
      " 0.00526316 0.        ]\n"
     ]
    }
   ],
   "source": [
    "hardness = roundset['Hardness']\n",
    "modulus = roundset['Modulus']\n",
    "\n",
    "new_length = 20\n",
    "new_x = np.linspace(0.0, 0.1, new_length)\n",
    "new_y = np.linspace(0.1, 0.0, new_length) \n",
    "\n",
    "\n",
    "print(new_x)\n",
    "print(new_y)"
   ]
  },
  {
   "cell_type": "code",
   "execution_count": 365,
   "metadata": {},
   "outputs": [
    {
     "name": "stdout",
     "output_type": "stream",
     "text": [
      "(20, 20)\n"
     ]
    }
   ],
   "source": [
    "xx, yy = np.meshgrid(new_x, new_y)\n",
    "# plt.scatter(xx, yy)\n",
    "print(xx.shape)"
   ]
  },
  {
   "cell_type": "code",
   "execution_count": 366,
   "metadata": {},
   "outputs": [
    {
     "data": {
      "text/html": [
       "<div>\n",
       "<style scoped>\n",
       "    .dataframe tbody tr th:only-of-type {\n",
       "        vertical-align: middle;\n",
       "    }\n",
       "\n",
       "    .dataframe tbody tr th {\n",
       "        vertical-align: top;\n",
       "    }\n",
       "\n",
       "    .dataframe thead th {\n",
       "        text-align: right;\n",
       "    }\n",
       "</style>\n",
       "<table border=\"1\" class=\"dataframe\">\n",
       "  <thead>\n",
       "    <tr style=\"text-align: right;\">\n",
       "      <th></th>\n",
       "      <th>X</th>\n",
       "      <th>Y</th>\n",
       "      <th>Hardness</th>\n",
       "      <th>Modulus</th>\n",
       "    </tr>\n",
       "  </thead>\n",
       "  <tbody>\n",
       "    <tr>\n",
       "      <th>0</th>\n",
       "      <td>0.000000</td>\n",
       "      <td>0.1</td>\n",
       "      <td>0.101479</td>\n",
       "      <td>0.372610</td>\n",
       "    </tr>\n",
       "    <tr>\n",
       "      <th>1</th>\n",
       "      <td>0.005263</td>\n",
       "      <td>0.1</td>\n",
       "      <td>0.170939</td>\n",
       "      <td>0.334415</td>\n",
       "    </tr>\n",
       "    <tr>\n",
       "      <th>2</th>\n",
       "      <td>0.010526</td>\n",
       "      <td>0.1</td>\n",
       "      <td>0.240398</td>\n",
       "      <td>0.296220</td>\n",
       "    </tr>\n",
       "    <tr>\n",
       "      <th>3</th>\n",
       "      <td>0.015789</td>\n",
       "      <td>0.1</td>\n",
       "      <td>0.296216</td>\n",
       "      <td>0.358494</td>\n",
       "    </tr>\n",
       "    <tr>\n",
       "      <th>4</th>\n",
       "      <td>0.021053</td>\n",
       "      <td>0.1</td>\n",
       "      <td>0.350365</td>\n",
       "      <td>0.433059</td>\n",
       "    </tr>\n",
       "    <tr>\n",
       "      <th>...</th>\n",
       "      <td>...</td>\n",
       "      <td>...</td>\n",
       "      <td>...</td>\n",
       "      <td>...</td>\n",
       "    </tr>\n",
       "    <tr>\n",
       "      <th>395</th>\n",
       "      <td>0.078947</td>\n",
       "      <td>0.0</td>\n",
       "      <td>0.551162</td>\n",
       "      <td>0.528613</td>\n",
       "    </tr>\n",
       "    <tr>\n",
       "      <th>396</th>\n",
       "      <td>0.084211</td>\n",
       "      <td>0.0</td>\n",
       "      <td>0.406107</td>\n",
       "      <td>0.416311</td>\n",
       "    </tr>\n",
       "    <tr>\n",
       "      <th>397</th>\n",
       "      <td>0.089474</td>\n",
       "      <td>0.0</td>\n",
       "      <td>0.268648</td>\n",
       "      <td>0.314528</td>\n",
       "    </tr>\n",
       "    <tr>\n",
       "      <th>398</th>\n",
       "      <td>0.094737</td>\n",
       "      <td>0.0</td>\n",
       "      <td>0.193291</td>\n",
       "      <td>0.298719</td>\n",
       "    </tr>\n",
       "    <tr>\n",
       "      <th>399</th>\n",
       "      <td>0.100000</td>\n",
       "      <td>0.0</td>\n",
       "      <td>0.117933</td>\n",
       "      <td>0.282911</td>\n",
       "    </tr>\n",
       "  </tbody>\n",
       "</table>\n",
       "<p>400 rows × 4 columns</p>\n",
       "</div>"
      ],
      "text/plain": [
       "            X    Y  Hardness   Modulus\n",
       "0    0.000000  0.1  0.101479  0.372610\n",
       "1    0.005263  0.1  0.170939  0.334415\n",
       "2    0.010526  0.1  0.240398  0.296220\n",
       "3    0.015789  0.1  0.296216  0.358494\n",
       "4    0.021053  0.1  0.350365  0.433059\n",
       "..        ...  ...       ...       ...\n",
       "395  0.078947  0.0  0.551162  0.528613\n",
       "396  0.084211  0.0  0.406107  0.416311\n",
       "397  0.089474  0.0  0.268648  0.314528\n",
       "398  0.094737  0.0  0.193291  0.298719\n",
       "399  0.100000  0.0  0.117933  0.282911\n",
       "\n",
       "[400 rows x 4 columns]"
      ]
     },
     "execution_count": 366,
     "metadata": {},
     "output_type": "execute_result"
    }
   ],
   "source": [
    "hardness = hardness.values.reshape(10,10)\n",
    "modulus = modulus.values.reshape(10,10)\n",
    "\n",
    "f_hardness = sp.interpolate.interp2d(x, y, hardness, kind='linear')\n",
    "new_hardness = f_hardness(new_x, new_y)\n",
    "f_modulus = sp.interpolate.interp2d(x, y, modulus, kind='linear')\n",
    "new_modulus = f_modulus(new_x, new_y)\n",
    "\n",
    "\n",
    "\n",
    "new_hardness = new_hardness.reshape(new_length**2, )\n",
    "new_modulus = new_modulus.reshape(new_length**2, )\n",
    "\n",
    "xxx = xx.reshape(new_length**2,)\n",
    "yyy = yy.reshape(new_length**2,)\n",
    "\n",
    "new_dataset = pd.DataFrame([xxx, yyy, new_hardness, new_modulus]).T\n",
    "new_dataset.columns = ['X', 'Y', 'Hardness', 'Modulus']\n",
    "new_dataset"
   ]
  },
  {
   "cell_type": "code",
   "execution_count": 367,
   "metadata": {},
   "outputs": [],
   "source": [
    "new_dataset.to_csv(\"/Users/lixinjin/Desktop/GeorgiaTech/fall2022_VIP/Gr1_more_points.csv\")"
   ]
  },
  {
   "cell_type": "code",
   "execution_count": 368,
   "metadata": {},
   "outputs": [
    {
     "name": "stderr",
     "output_type": "stream",
     "text": [
      "No handles with labels found to put in legend.\n"
     ]
    },
    {
     "data": {
      "text/plain": [
       "Text(0, 0.5, 'y coordinate value')"
      ]
     },
     "execution_count": 368,
     "metadata": {},
     "output_type": "execute_result"
    },
    {
     "data": {
      "image/png": "[encoded data removed]",
      "text/plain": [
       "<Figure size 432x432 with 1 Axes>"
      ]
     },
     "metadata": {
      "needs_background": "light"
     },
     "output_type": "display_data"
    }
   ],
   "source": [
    "gmm_granite_2 = GaussianMixture(n_components = 4) \n",
    "gmm_granite_2.fit(new_dataset)\n",
    "predict = gmm_granite_2.predict(new_dataset)\n",
    "new_dataset['label'] = pd.Series(predict, index=new_dataset.index)\n",
    "new_dataset.columns = ['X', 'Y', 'Hardness', 'Modulus', 'label']\n",
    "\n",
    "\n",
    "new_dataset.index = np.arange(1, len(new_dataset) + 1)\n",
    "new_dataset.head()\n",
    "\n",
    "plt.scatter(new_dataset[\"X\"], new_dataset[\"Y\"], c = new_dataset[\"label\"], \n",
    "            cmap=\"hsv\", alpha=0.85, s=40)\n",
    "plt.legend()\n",
    "plt.xlabel(\"x coordinate value\")\n",
    "plt.ylabel(\"y coordinate value\")"
   ]
  },
  {
   "cell_type": "code",
   "execution_count": 344,
   "metadata": {
    "scrolled": true
   },
   "outputs": [],
   "source": [
    "# # obtain labels per mesh point (reuse stored model)\n",
    "# Z = new_dataset['label']\n",
    "\n",
    "# # put result into color plot\n",
    "# Z = Z.values.reshape(xx.shape)\n",
    "# plt.imshow(\n",
    "#     Z, interpolation='nearest', cmap='Set2', alpha=0.75,\n",
    "#     extent=(xx.min(), xx.max(), yy.min(), yy.max()),\n",
    "#     aspect='auto', origin='lower',\n",
    "# )"
   ]
  },
  {
   "cell_type": "markdown",
   "metadata": {},
   "source": [
    "## Data Interpolation"
   ]
  },
  {
   "cell_type": "code",
   "execution_count": 18,
   "metadata": {},
   "outputs": [
    {
     "name": "stdout",
     "output_type": "stream",
     "text": [
      "[0.         0.11111111 0.22222222 0.33333333 0.44444444 0.55555556\n",
      " 0.66666667 0.77777778 0.88888889 1.        ]\n"
     ]
    },
    {
     "data": {
      "text/plain": [
       "<matplotlib.collections.PathCollection at 0x7fd57e4935b0>"
      ]
     },
     "execution_count": 18,
     "metadata": {},
     "output_type": "execute_result"
    },
    {
     "data": {
      "image/png": "[encoded data removed]",
      "text/plain": [
       "<Figure size 432x288 with 1 Axes>"
      ]
     },
     "metadata": {
      "needs_background": "light"
     },
     "output_type": "display_data"
    }
   ],
   "source": [
    "from scipy.interpolate import interp1d\n",
    "from scipy.interpolate import interp2d\n",
    "from scipy.interpolate import interpn\n",
    "from scipy import interpolate\n",
    "\n",
    "n = 10\n",
    "# temp_X = np.linspace(np.min(reshape_set['X']), np.max(reshape_set['X']), n)\n",
    "# temp_Y = np.linspace(np.min(reshape_set['Y']), np.max(reshape_set['Y']), n)\n",
    "temp_X = np.linspace(0, 1, n)\n",
    "temp_Y = np.linspace(0, 1, n)\n",
    "xx, yy = np.meshgrid(temp_X, temp_Y) # x,Create grid array of y\n",
    "\n",
    "print(temp_X)\n",
    "\n",
    "new_X = xx.reshape(n**2,)\n",
    "new_Y = yy.reshape(n**2,)\n",
    "plt.scatter(new_X, new_Y, s = 10) # linear create new points in 2d space"
   ]
  },
  {
   "cell_type": "code",
   "execution_count": 179,
   "metadata": {},
   "outputs": [
    {
     "data": {
      "text/plain": [
       "<mpl_toolkits.mplot3d.art3d.Path3DCollection at 0x7fce12eaf4c0>"
      ]
     },
     "execution_count": 179,
     "metadata": {},
     "output_type": "execute_result"
    },
    {
     "data": {
      "image/png": "[encoded data removed]",
      "text/plain": [
       "<Figure size 432x288 with 1 Axes>"
      ]
     },
     "metadata": {
      "needs_background": "light"
     },
     "output_type": "display_data"
    }
   ],
   "source": [
    "type = 'linear'\n",
    "roundset = reshape_set\n",
    "roundset['X'] = round(roundset['X'], 1)\n",
    "roundset['Y'] = round(roundset['Y'], 1)\n",
    "roundset_hardness = roundset[['X', 'Y', 'Hardness']].values.reshape(10,10,3)\n",
    "from mpl_toolkits import mplot3d\n",
    "fig = plt.figure()\n",
    "ax = plt.axes(projection='3d')\n",
    "ax.scatter3D(roundset['X'],roundset['Y'], roundset['Hardness'])"
   ]
  },
  {
   "cell_type": "code",
   "execution_count": 180,
   "metadata": {},
   "outputs": [
    {
     "data": {
      "text/plain": [
       "<mpl_toolkits.mplot3d.art3d.Path3DCollection at 0x7fce12f9e8b0>"
      ]
     },
     "execution_count": 180,
     "metadata": {},
     "output_type": "execute_result"
    },
    {
     "data": {
      "image/png": "[encoded data removed]",
      "text/plain": [
       "<Figure size 432x288 with 1 Axes>"
      ]
     },
     "metadata": {
      "needs_background": "light"
     },
     "output_type": "display_data"
    }
   ],
   "source": [
    "roundset_modulus = roundset[['X', 'Y', 'Modulus']].values.reshape(10,10,3)\n",
    "from mpl_toolkits import mplot3d\n",
    "fig = plt.figure()\n",
    "ax = plt.axes(projection='3d')\n",
    "ax.scatter3D(roundset['X'],roundset['Y'], roundset['Modulus'])"
   ]
  },
  {
   "cell_type": "code",
   "execution_count": 181,
   "metadata": {},
   "outputs": [
    {
     "name": "stdout",
     "output_type": "stream",
     "text": [
      "(10,)\n",
      "(10, 10)\n"
     ]
    },
    {
     "data": {
      "text/html": [
       "<div>\n",
       "<style scoped>\n",
       "    .dataframe tbody tr th:only-of-type {\n",
       "        vertical-align: middle;\n",
       "    }\n",
       "\n",
       "    .dataframe tbody tr th {\n",
       "        vertical-align: top;\n",
       "    }\n",
       "\n",
       "    .dataframe thead th {\n",
       "        text-align: right;\n",
       "    }\n",
       "</style>\n",
       "<table border=\"1\" class=\"dataframe\">\n",
       "  <thead>\n",
       "    <tr style=\"text-align: right;\">\n",
       "      <th></th>\n",
       "      <th>0</th>\n",
       "      <th>1</th>\n",
       "      <th>2</th>\n",
       "      <th>3</th>\n",
       "    </tr>\n",
       "  </thead>\n",
       "  <tbody>\n",
       "    <tr>\n",
       "      <th>0</th>\n",
       "      <td>0.000000</td>\n",
       "      <td>0.0</td>\n",
       "      <td>0.101479</td>\n",
       "      <td>0.372610</td>\n",
       "    </tr>\n",
       "    <tr>\n",
       "      <th>1</th>\n",
       "      <td>0.111111</td>\n",
       "      <td>0.0</td>\n",
       "      <td>0.101479</td>\n",
       "      <td>0.372610</td>\n",
       "    </tr>\n",
       "    <tr>\n",
       "      <th>2</th>\n",
       "      <td>0.222222</td>\n",
       "      <td>0.0</td>\n",
       "      <td>0.101479</td>\n",
       "      <td>0.372610</td>\n",
       "    </tr>\n",
       "    <tr>\n",
       "      <th>3</th>\n",
       "      <td>0.333333</td>\n",
       "      <td>0.0</td>\n",
       "      <td>0.101479</td>\n",
       "      <td>0.372610</td>\n",
       "    </tr>\n",
       "    <tr>\n",
       "      <th>4</th>\n",
       "      <td>0.444444</td>\n",
       "      <td>0.0</td>\n",
       "      <td>0.101479</td>\n",
       "      <td>0.372610</td>\n",
       "    </tr>\n",
       "    <tr>\n",
       "      <th>...</th>\n",
       "      <td>...</td>\n",
       "      <td>...</td>\n",
       "      <td>...</td>\n",
       "      <td>...</td>\n",
       "    </tr>\n",
       "    <tr>\n",
       "      <th>95</th>\n",
       "      <td>0.555556</td>\n",
       "      <td>1.0</td>\n",
       "      <td>0.335866</td>\n",
       "      <td>0.287939</td>\n",
       "    </tr>\n",
       "    <tr>\n",
       "      <th>96</th>\n",
       "      <td>0.666667</td>\n",
       "      <td>1.0</td>\n",
       "      <td>0.335866</td>\n",
       "      <td>0.287939</td>\n",
       "    </tr>\n",
       "    <tr>\n",
       "      <th>97</th>\n",
       "      <td>0.777778</td>\n",
       "      <td>1.0</td>\n",
       "      <td>0.335866</td>\n",
       "      <td>0.287939</td>\n",
       "    </tr>\n",
       "    <tr>\n",
       "      <th>98</th>\n",
       "      <td>0.888889</td>\n",
       "      <td>1.0</td>\n",
       "      <td>0.335866</td>\n",
       "      <td>0.287939</td>\n",
       "    </tr>\n",
       "    <tr>\n",
       "      <th>99</th>\n",
       "      <td>1.000000</td>\n",
       "      <td>1.0</td>\n",
       "      <td>0.335866</td>\n",
       "      <td>0.287939</td>\n",
       "    </tr>\n",
       "  </tbody>\n",
       "</table>\n",
       "<p>100 rows × 4 columns</p>\n",
       "</div>"
      ],
      "text/plain": [
       "           0    1         2         3\n",
       "0   0.000000  0.0  0.101479  0.372610\n",
       "1   0.111111  0.0  0.101479  0.372610\n",
       "2   0.222222  0.0  0.101479  0.372610\n",
       "3   0.333333  0.0  0.101479  0.372610\n",
       "4   0.444444  0.0  0.101479  0.372610\n",
       "..       ...  ...       ...       ...\n",
       "95  0.555556  1.0  0.335866  0.287939\n",
       "96  0.666667  1.0  0.335866  0.287939\n",
       "97  0.777778  1.0  0.335866  0.287939\n",
       "98  0.888889  1.0  0.335866  0.287939\n",
       "99  1.000000  1.0  0.335866  0.287939\n",
       "\n",
       "[100 rows x 4 columns]"
      ]
     },
     "execution_count": 181,
     "metadata": {},
     "output_type": "execute_result"
    }
   ],
   "source": [
    "unique_x = roundset['X'].unique().reshape(10)\n",
    "unique_y = roundset['Y'].unique().reshape(10)\n",
    "print(unique_x.shape)\n",
    "h = roundset_hardness[:,:,2]\n",
    "m = roundset_modulus[:,:,2]\n",
    "print(h.shape)\n",
    "\n",
    "# h = roundset['Hardness'].values.reshape(100,)\n",
    "# m = roundset['Modulus'].values.reshape(100,)\n",
    "\n",
    "type = \"linear\"\n",
    "\n",
    "f_h = interpolate.interp2d(unique_x, unique_y, h, kind=type)\n",
    "f_m = interpolate.interp2d(unique_x, unique_y, m, kind=type)\n",
    "\n",
    "new_hardness = f_h(new_X, new_Y)\n",
    "new_modulus = f_m(new_X, new_Y)\n",
    "\n",
    "# new_hardness = f_h(temp_X, temp_Y)\n",
    "# new_modulus = f_m(temp_X, temp_Y)\n",
    "new_dataset = pd.DataFrame([new_X, new_Y, new_hardness[0,:], new_modulus[0,:]]).T\n",
    "# print(new_dataset)\n",
    "new_dataset"
   ]
  },
  {
   "cell_type": "code",
   "execution_count": 182,
   "metadata": {},
   "outputs": [
    {
     "data": {
      "text/html": [
       "<div>\n",
       "<style scoped>\n",
       "    .dataframe tbody tr th:only-of-type {\n",
       "        vertical-align: middle;\n",
       "    }\n",
       "\n",
       "    .dataframe tbody tr th {\n",
       "        vertical-align: top;\n",
       "    }\n",
       "\n",
       "    .dataframe thead th {\n",
       "        text-align: right;\n",
       "    }\n",
       "</style>\n",
       "<table border=\"1\" class=\"dataframe\">\n",
       "  <thead>\n",
       "    <tr style=\"text-align: right;\">\n",
       "      <th></th>\n",
       "      <th>0</th>\n",
       "      <th>1</th>\n",
       "      <th>2</th>\n",
       "      <th>3</th>\n",
       "    </tr>\n",
       "  </thead>\n",
       "  <tbody>\n",
       "    <tr>\n",
       "      <th>0</th>\n",
       "      <td>0.000000</td>\n",
       "      <td>0.0</td>\n",
       "      <td>0.101479</td>\n",
       "      <td>0.37261</td>\n",
       "    </tr>\n",
       "    <tr>\n",
       "      <th>1</th>\n",
       "      <td>0.111111</td>\n",
       "      <td>0.0</td>\n",
       "      <td>0.101479</td>\n",
       "      <td>0.37261</td>\n",
       "    </tr>\n",
       "    <tr>\n",
       "      <th>2</th>\n",
       "      <td>0.222222</td>\n",
       "      <td>0.0</td>\n",
       "      <td>0.101479</td>\n",
       "      <td>0.37261</td>\n",
       "    </tr>\n",
       "    <tr>\n",
       "      <th>3</th>\n",
       "      <td>0.333333</td>\n",
       "      <td>0.0</td>\n",
       "      <td>0.101479</td>\n",
       "      <td>0.37261</td>\n",
       "    </tr>\n",
       "    <tr>\n",
       "      <th>4</th>\n",
       "      <td>0.444444</td>\n",
       "      <td>0.0</td>\n",
       "      <td>0.101479</td>\n",
       "      <td>0.37261</td>\n",
       "    </tr>\n",
       "  </tbody>\n",
       "</table>\n",
       "</div>"
      ],
      "text/plain": [
       "          0    1         2        3\n",
       "0  0.000000  0.0  0.101479  0.37261\n",
       "1  0.111111  0.0  0.101479  0.37261\n",
       "2  0.222222  0.0  0.101479  0.37261\n",
       "3  0.333333  0.0  0.101479  0.37261\n",
       "4  0.444444  0.0  0.101479  0.37261"
      ]
     },
     "execution_count": 182,
     "metadata": {},
     "output_type": "execute_result"
    }
   ],
   "source": [
    "# f_hardness = interp2d(reshape_set['X'], reshape_set['Y'], reshape_set['Hardness'], kind = type)\n",
    "#####====================================================================================================\n",
    "\n",
    "f_hardness = interp2d(reshape_set['X'], reshape_set['Y'], reshape_set['Hardness'], kind = type)\n",
    "new_hardness = f_hardness(new_X, new_Y)\n",
    "f_modulus = interp2d(reshape_set['X'], reshape_set['Y'], reshape_set['Modulus'], kind = type)\n",
    "new_modulus = f_modulus(new_X, new_Y)\n",
    "new_dataset = pd.DataFrame([new_X, new_Y, new_hardness[0,:], new_modulus[0,:]])\n",
    "new_dataset = new_dataset.T\n",
    "new_dataset.head()"
   ]
  },
  {
   "cell_type": "code",
   "execution_count": 183,
   "metadata": {},
   "outputs": [
    {
     "data": {
      "text/html": [
       "<div>\n",
       "<style scoped>\n",
       "    .dataframe tbody tr th:only-of-type {\n",
       "        vertical-align: middle;\n",
       "    }\n",
       "\n",
       "    .dataframe tbody tr th {\n",
       "        vertical-align: top;\n",
       "    }\n",
       "\n",
       "    .dataframe thead th {\n",
       "        text-align: right;\n",
       "    }\n",
       "</style>\n",
       "<table border=\"1\" class=\"dataframe\">\n",
       "  <thead>\n",
       "    <tr style=\"text-align: right;\">\n",
       "      <th></th>\n",
       "      <th>X</th>\n",
       "      <th>Y</th>\n",
       "      <th>Hardness</th>\n",
       "      <th>Modulus</th>\n",
       "      <th>label</th>\n",
       "    </tr>\n",
       "  </thead>\n",
       "  <tbody>\n",
       "    <tr>\n",
       "      <th>1</th>\n",
       "      <td>0.000000</td>\n",
       "      <td>0.0</td>\n",
       "      <td>0.101479</td>\n",
       "      <td>0.37261</td>\n",
       "      <td>0</td>\n",
       "    </tr>\n",
       "    <tr>\n",
       "      <th>2</th>\n",
       "      <td>0.111111</td>\n",
       "      <td>0.0</td>\n",
       "      <td>0.101479</td>\n",
       "      <td>0.37261</td>\n",
       "      <td>0</td>\n",
       "    </tr>\n",
       "    <tr>\n",
       "      <th>3</th>\n",
       "      <td>0.222222</td>\n",
       "      <td>0.0</td>\n",
       "      <td>0.101479</td>\n",
       "      <td>0.37261</td>\n",
       "      <td>0</td>\n",
       "    </tr>\n",
       "    <tr>\n",
       "      <th>4</th>\n",
       "      <td>0.333333</td>\n",
       "      <td>0.0</td>\n",
       "      <td>0.101479</td>\n",
       "      <td>0.37261</td>\n",
       "      <td>0</td>\n",
       "    </tr>\n",
       "    <tr>\n",
       "      <th>5</th>\n",
       "      <td>0.444444</td>\n",
       "      <td>0.0</td>\n",
       "      <td>0.101479</td>\n",
       "      <td>0.37261</td>\n",
       "      <td>0</td>\n",
       "    </tr>\n",
       "  </tbody>\n",
       "</table>\n",
       "</div>"
      ],
      "text/plain": [
       "          X    Y  Hardness  Modulus  label\n",
       "1  0.000000  0.0  0.101479  0.37261      0\n",
       "2  0.111111  0.0  0.101479  0.37261      0\n",
       "3  0.222222  0.0  0.101479  0.37261      0\n",
       "4  0.333333  0.0  0.101479  0.37261      0\n",
       "5  0.444444  0.0  0.101479  0.37261      0"
      ]
     },
     "execution_count": 183,
     "metadata": {},
     "output_type": "execute_result"
    }
   ],
   "source": [
    "gmm_granite_2 = GaussianMixture(n_components = 4) \n",
    "gmm_granite_2.fit(new_dataset)\n",
    "predict = gmm_granite_2.predict(new_dataset)\n",
    "new_dataset['label'] = pd.Series(predict, index=new_dataset.index)\n",
    "new_dataset.columns = ['X', 'Y', 'Hardness', 'Modulus', 'label']\n",
    "\n",
    "new_dataset.index = np.arange(1, len(new_dataset) + 1)\n",
    "new_dataset.head()"
   ]
  },
  {
   "cell_type": "code",
   "execution_count": 184,
   "metadata": {},
   "outputs": [
    {
     "name": "stderr",
     "output_type": "stream",
     "text": [
      "No handles with labels found to put in legend.\n"
     ]
    },
    {
     "data": {
      "text/plain": [
       "Text(0, 0.5, 'y coordinate value')"
      ]
     },
     "execution_count": 184,
     "metadata": {},
     "output_type": "execute_result"
    },
    {
     "data": {
      "image/png": "[encoded data removed]",
      "text/plain": [
       "<Figure size 432x288 with 1 Axes>"
      ]
     },
     "metadata": {
      "needs_background": "light"
     },
     "output_type": "display_data"
    }
   ],
   "source": [
    "plt.scatter(new_dataset[\"X\"], new_dataset[\"Y\"], c = new_dataset[\"label\"], s = 60)\n",
    "plt.legend()\n",
    "plt.xlabel(\"x coordinate value\")\n",
    "plt.ylabel(\"y coordinate value\")"
   ]
  },
  {
   "cell_type": "code",
   "execution_count": 185,
   "metadata": {},
   "outputs": [],
   "source": [
    "# # Griddata method\n",
    "# # same as above\n",
    "# n = 30\n",
    "# temp_X = np.linspace(0, 1, n)\n",
    "# temp_Y = np.linspace(0, 1, n)\n",
    "# xx, yy = np.meshgrid(temp_X, temp_Y) # x,Create grid array of y\n",
    "# knew_xy_coord = reshape_set[['X', 'Y']].values\n",
    "# print(knew_xy_coord.shape)\n",
    "# # knew_values = reshape_set['Hardness'].values\n",
    "# knew_values = granite_remoevd[\"label\"]"
   ]
  },
  {
   "cell_type": "code",
   "execution_count": 186,
   "metadata": {},
   "outputs": [],
   "source": [
    "# from scipy.interpolate import griddata\n",
    "# result = griddata(points=knew_xy_coord, values=knew_values, xi=(xx, yy), method='linear')\n",
    "# result.shape"
   ]
  },
  {
   "cell_type": "code",
   "execution_count": 187,
   "metadata": {},
   "outputs": [],
   "source": [
    "# fig = plt.figure(figsize=(8, 6))\n",
    "# ax = fig.add_subplot(111)\n",
    "# ax.set_aspect('equal', adjustable='box') # wants the x and y aspect ratios to be the same.\n",
    "# ax.contourf(xx, yy, result, cmap='jet')\n",
    "# plt.show()"
   ]
  },
  {
   "cell_type": "code",
   "execution_count": 188,
   "metadata": {},
   "outputs": [],
   "source": [
    "knew_hardness = granite_remoevd[\"Hardness\"]\n",
    "knew_modulus = granite_remoevd[\"Modulus\"]\n",
    "\n",
    "m = \"nearest\"\n",
    "result_hardness = griddata(points=knew_xy_coord, values=knew_hardness, xi=(yy,xx), method=m)\n",
    "result_modulus = griddata(points=knew_xy_coord, values=knew_modulus, xi=(xx, yy), method=m)\n",
    "# print(np.isnan(result_hardness).sum())"
   ]
  },
  {
   "cell_type": "code",
   "execution_count": 189,
   "metadata": {},
   "outputs": [
    {
     "data": {
      "text/html": [
       "<div>\n",
       "<style scoped>\n",
       "    .dataframe tbody tr th:only-of-type {\n",
       "        vertical-align: middle;\n",
       "    }\n",
       "\n",
       "    .dataframe tbody tr th {\n",
       "        vertical-align: top;\n",
       "    }\n",
       "\n",
       "    .dataframe thead th {\n",
       "        text-align: right;\n",
       "    }\n",
       "</style>\n",
       "<table border=\"1\" class=\"dataframe\">\n",
       "  <thead>\n",
       "    <tr style=\"text-align: right;\">\n",
       "      <th></th>\n",
       "      <th>0</th>\n",
       "      <th>1</th>\n",
       "      <th>2</th>\n",
       "      <th>3</th>\n",
       "    </tr>\n",
       "  </thead>\n",
       "  <tbody>\n",
       "    <tr>\n",
       "      <th>0</th>\n",
       "      <td>0.0</td>\n",
       "      <td>0.000000</td>\n",
       "      <td>0.101479</td>\n",
       "      <td>0.372610</td>\n",
       "    </tr>\n",
       "    <tr>\n",
       "      <th>1</th>\n",
       "      <td>0.0</td>\n",
       "      <td>0.111111</td>\n",
       "      <td>0.247969</td>\n",
       "      <td>0.801430</td>\n",
       "    </tr>\n",
       "    <tr>\n",
       "      <th>2</th>\n",
       "      <td>0.0</td>\n",
       "      <td>0.222222</td>\n",
       "      <td>0.362170</td>\n",
       "      <td>0.194817</td>\n",
       "    </tr>\n",
       "    <tr>\n",
       "      <th>3</th>\n",
       "      <td>0.0</td>\n",
       "      <td>0.333333</td>\n",
       "      <td>0.024116</td>\n",
       "      <td>0.286715</td>\n",
       "    </tr>\n",
       "    <tr>\n",
       "      <th>4</th>\n",
       "      <td>0.0</td>\n",
       "      <td>0.444444</td>\n",
       "      <td>0.071807</td>\n",
       "      <td>0.031762</td>\n",
       "    </tr>\n",
       "  </tbody>\n",
       "</table>\n",
       "</div>"
      ],
      "text/plain": [
       "     0         1         2         3\n",
       "0  0.0  0.000000  0.101479  0.372610\n",
       "1  0.0  0.111111  0.247969  0.801430\n",
       "2  0.0  0.222222  0.362170  0.194817\n",
       "3  0.0  0.333333  0.024116  0.286715\n",
       "4  0.0  0.444444  0.071807  0.031762"
      ]
     },
     "execution_count": 189,
     "metadata": {},
     "output_type": "execute_result"
    }
   ],
   "source": [
    "new = np.array([xx, yy, result_hardness, result_modulus]).T\n",
    "new = new.reshape(n**2,4)\n",
    "new = pd.DataFrame(new)\n",
    "new.head()"
   ]
  },
  {
   "cell_type": "code",
   "execution_count": 190,
   "metadata": {},
   "outputs": [],
   "source": [
    "new.index = np.arange(1, len(new) + 1)\n",
    "new.columns = [\"X\", \"Y\", \"Hardness\", \"Modulus\"]"
   ]
  },
  {
   "cell_type": "code",
   "execution_count": 198,
   "metadata": {},
   "outputs": [
    {
     "data": {
      "text/html": [
       "<div>\n",
       "<style scoped>\n",
       "    .dataframe tbody tr th:only-of-type {\n",
       "        vertical-align: middle;\n",
       "    }\n",
       "\n",
       "    .dataframe tbody tr th {\n",
       "        vertical-align: top;\n",
       "    }\n",
       "\n",
       "    .dataframe thead th {\n",
       "        text-align: right;\n",
       "    }\n",
       "</style>\n",
       "<table border=\"1\" class=\"dataframe\">\n",
       "  <thead>\n",
       "    <tr style=\"text-align: right;\">\n",
       "      <th></th>\n",
       "      <th>X</th>\n",
       "      <th>Y</th>\n",
       "      <th>Hardness</th>\n",
       "      <th>Modulus</th>\n",
       "      <th>label</th>\n",
       "    </tr>\n",
       "  </thead>\n",
       "  <tbody>\n",
       "    <tr>\n",
       "      <th>1</th>\n",
       "      <td>0.0</td>\n",
       "      <td>0.000000</td>\n",
       "      <td>0.101479</td>\n",
       "      <td>0.372610</td>\n",
       "      <td>0</td>\n",
       "    </tr>\n",
       "    <tr>\n",
       "      <th>2</th>\n",
       "      <td>0.0</td>\n",
       "      <td>0.111111</td>\n",
       "      <td>0.247969</td>\n",
       "      <td>0.801430</td>\n",
       "      <td>0</td>\n",
       "    </tr>\n",
       "    <tr>\n",
       "      <th>3</th>\n",
       "      <td>0.0</td>\n",
       "      <td>0.222222</td>\n",
       "      <td>0.362170</td>\n",
       "      <td>0.194817</td>\n",
       "      <td>0</td>\n",
       "    </tr>\n",
       "    <tr>\n",
       "      <th>4</th>\n",
       "      <td>0.0</td>\n",
       "      <td>0.333333</td>\n",
       "      <td>0.024116</td>\n",
       "      <td>0.286715</td>\n",
       "      <td>0</td>\n",
       "    </tr>\n",
       "    <tr>\n",
       "      <th>5</th>\n",
       "      <td>0.0</td>\n",
       "      <td>0.444444</td>\n",
       "      <td>0.071807</td>\n",
       "      <td>0.031762</td>\n",
       "      <td>0</td>\n",
       "    </tr>\n",
       "  </tbody>\n",
       "</table>\n",
       "</div>"
      ],
      "text/plain": [
       "     X         Y  Hardness   Modulus  label\n",
       "1  0.0  0.000000  0.101479  0.372610      0\n",
       "2  0.0  0.111111  0.247969  0.801430      0\n",
       "3  0.0  0.222222  0.362170  0.194817      0\n",
       "4  0.0  0.333333  0.024116  0.286715      0\n",
       "5  0.0  0.444444  0.071807  0.031762      0"
      ]
     },
     "execution_count": 198,
     "metadata": {},
     "output_type": "execute_result"
    }
   ],
   "source": [
    "gmm_granite_2 = GaussianMixture(n_components = 4) \n",
    "gmm_granite_2.fit(new)\n",
    "predict = gmm_granite_2.predict(new)\n",
    "new['label'] = pd.Series(predict, index=new.index)\n",
    "new.columns = ['X', 'Y', 'Hardness', 'Modulus', 'label']\n",
    "\n",
    "new.index = np.arange(1, len(new) + 1)\n",
    "new.head()"
   ]
  },
  {
   "cell_type": "code",
   "execution_count": 199,
   "metadata": {},
   "outputs": [
    {
     "name": "stderr",
     "output_type": "stream",
     "text": [
      "No handles with labels found to put in legend.\n"
     ]
    },
    {
     "data": {
      "text/plain": [
       "Text(0, 0.5, 'y coordinate value')"
      ]
     },
     "execution_count": 199,
     "metadata": {},
     "output_type": "execute_result"
    },
    {
     "data": {
      "image/png": "[encoded data removed]",
      "text/plain": [
       "<Figure size 432x288 with 1 Axes>"
      ]
     },
     "metadata": {
      "needs_background": "light"
     },
     "output_type": "display_data"
    }
   ],
   "source": [
    "plt.scatter(new[\"X\"], new[\"Y\"], c = new[\"label\"], s = 60)\n",
    "plt.legend()\n",
    "plt.xlabel(\"x coordinate value\")\n",
    "plt.ylabel(\"y coordinate value\")"
   ]
  },
  {
   "cell_type": "code",
   "execution_count": 204,
   "metadata": {},
   "outputs": [
    {
     "data": {
      "text/plain": [
       "array([[0., 0., 0., 0., 0., 2., 2., 2., 2., 2.],\n",
       "       [0., 0., 1., 0., 0., 1., 1., 1., 1., 1.],\n",
       "       [0., 0., 0., 0., 0., 0., 1., 2., 2., 1.],\n",
       "       [0., 0., 0., 0., 0., 0., 2., 2., 1., 1.],\n",
       "       [0., 0., 0., 0., 0., 1., 1., 1., 1., 1.],\n",
       "       [3., 3., 0., 0., 0., 2., 2., 2., 2., 1.],\n",
       "       [3., 3., 0., 1., 3., 1., 1., 2., 1., 1.],\n",
       "       [3., 3., 3., 3., 3., 3., 1., 2., 1., 1.],\n",
       "       [3., 3., 3., 3., 3., 1., 2., 2., 1., 1.],\n",
       "       [3., 3., 3., 3., 3., 3., 2., 2., 2., 1.]])"
      ]
     },
     "execution_count": 204,
     "metadata": {},
     "output_type": "execute_result"
    }
   ],
   "source": [
    "sub_new = new[['X', 'Y', 'label']]\n",
    "sub_new_3 = sub_new.values.reshape(n,n,3)\n",
    "\n",
    "sub_new_3_label = sub_new_3[:,:,2]\n",
    "sub_new_3_label"
   ]
  },
  {
   "cell_type": "code",
   "execution_count": 203,
   "metadata": {},
   "outputs": [
    {
     "data": {
      "image/png": "[encoded data removed]",
      "text/plain": [
       "<Figure size 576x432 with 1 Axes>"
      ]
     },
     "metadata": {
      "needs_background": "light"
     },
     "output_type": "display_data"
    }
   ],
   "source": [
    "fig = plt.figure(figsize=(8, 6))\n",
    "ax = fig.add_subplot(111)\n",
    "ax.set_aspect('equal', adjustable='box') # wants the x and y aspect ratios to be the same.\n",
    "ax.contourf(xx, yy, sub_new_3_label, cmap='jet')\n",
    "plt.show()"
   ]
  },
  {
   "cell_type": "code",
   "execution_count": null,
   "metadata": {},
   "outputs": [],
   "source": []
  }
 ],
 "metadata": {
  "kernelspec": {
   "display_name": "Python 3",
   "language": "python",
   "name": "python3"
  },
  "language_info": {
   "codemirror_mode": {
    "name": "ipython",
    "version": 3
   },
   "file_extension": ".py",
   "mimetype": "text/x-python",
   "name": "python",
   "nbconvert_exporter": "python",
   "pygments_lexer": "ipython3",
   "version": "3.8.5"
  },
  "vscode": {
   "interpreter": {
    "hash": "275e89420582e5cc0299a2891429a86ed19acc0a971a908bbf3a749aa82227f3"
   }
  }
 },
 "nbformat": 4,
 "nbformat_minor": 2
}
